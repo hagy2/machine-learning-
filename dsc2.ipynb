{
  "cells": [
    {
      "cell_type": "code",
      "execution_count": null,
      "metadata": {
        "id": "Gd0GFy337PZy"
      },
      "outputs": [],
      "source": [
        "import numpy as np\n",
        "import pandas as pd\n",
        "from sklearn.model_selection import train_test_split\n",
        "from sklearn.tree import DecisionTreeClassifier\n",
        "from sklearn.neighbors import KNeighborsClassifier\n",
        "from sklearn.neighbors import KNeighborsRegressor\n",
        "from sklearn.metrics import mean_squared_error\n",
        "from sklearn.naive_bayes import GaussianNB\n",
        "from sklearn.metrics import accuracy_score, confusion_matrix, recall_score, precision_score\n",
        "from sklearn.preprocessing import LabelEncoder"
      ]
    },
    {
      "cell_type": "code",
      "execution_count": null,
      "metadata": {
        "id": "7Yo4MGoc7mrY"
      },
      "outputs": [],
      "source": [
        "data=pd.read_csv('CarPrice_Assignment.csv')"
      ]
    },
    {
      "cell_type": "code",
      "execution_count": null,
      "metadata": {
        "colab": {
          "base_uri": "https://localhost:8080/"
        },
        "id": "ATtjouoU_MWT",
        "outputId": "7bf9b1a4-e826-4756-cbaa-c94fb5e0f941"
      },
      "outputs": [
        {
          "output_type": "stream",
          "name": "stdout",
          "text": [
            "205\n",
            "---------\n",
            "205\n"
          ]
        }
      ],
      "source": [
        "print(data.shape[0])\n",
        "#data preProcessing\n",
        "preproData=data.drop_duplicates() #getting rid of dupplicates\n",
        "print('---------')\n",
        "print(preproData.shape[0]) #no dupplicates in the original data"
      ]
    },
    {
      "cell_type": "code",
      "execution_count": null,
      "metadata": {
        "colab": {
          "base_uri": "https://localhost:8080/"
        },
        "id": "xGk_2ZPM9bKV",
        "outputId": "3973f5b4-aead-4171-e417-d203afa92a71"
      },
      "outputs": [
        {
          "output_type": "execute_result",
          "data": {
            "text/plain": [
              "car_ID              0\n",
              "symboling           0\n",
              "CarName             0\n",
              "fueltype            0\n",
              "aspiration          0\n",
              "doornumber          0\n",
              "carbody             0\n",
              "drivewheel          0\n",
              "enginelocation      0\n",
              "wheelbase           0\n",
              "carlength           0\n",
              "carwidth            0\n",
              "carheight           0\n",
              "curbweight          0\n",
              "enginetype          0\n",
              "cylindernumber      0\n",
              "enginesize          0\n",
              "fuelsystem          0\n",
              "boreratio           0\n",
              "stroke              0\n",
              "compressionratio    0\n",
              "horsepower          0\n",
              "peakrpm             0\n",
              "citympg             0\n",
              "highwaympg          0\n",
              "price               0\n",
              "dtype: int64"
            ]
          },
          "metadata": {},
          "execution_count": 58
        }
      ],
      "source": [
        "preproData.isnull().sum()#checking if there are any missing values to handle\n",
        "#no missing values"
      ]
    },
    {
      "cell_type": "code",
      "execution_count": null,
      "metadata": {
        "id": "nb52UGLe5KQw"
      },
      "outputs": [],
      "source": [
        "data=preproData"
      ]
    },
    {
      "cell_type": "code",
      "execution_count": null,
      "metadata": {
        "colab": {
          "base_uri": "https://localhost:8080/"
        },
        "id": "lWzuRnpKGYAy",
        "outputId": "538203a3-5793-4f68-ed20-8973a5b8fabb"
      },
      "outputs": [
        {
          "output_type": "stream",
          "name": "stdout",
          "text": [
            "     car_ID  symboling                   CarName fueltype aspiration  \\\n",
            "0         1          3        alfa-romero giulia      gas        std   \n",
            "1         2          3       alfa-romero stelvio      gas        std   \n",
            "2         3          1  alfa-romero Quadrifoglio      gas        std   \n",
            "3         4          2               audi 100 ls      gas        std   \n",
            "4         5          2                audi 100ls      gas        std   \n",
            "..      ...        ...                       ...      ...        ...   \n",
            "200     201         -1           volvo 145e (sw)      gas        std   \n",
            "201     202         -1               volvo 144ea      gas      turbo   \n",
            "202     203         -1               volvo 244dl      gas        std   \n",
            "203     204         -1                 volvo 246   diesel      turbo   \n",
            "204     205         -1               volvo 264gl      gas      turbo   \n",
            "\n",
            "    doornumber      carbody drivewheel enginelocation  wheelbase  ...  \\\n",
            "0          two  convertible        rwd          front       88.6  ...   \n",
            "1          two  convertible        rwd          front       88.6  ...   \n",
            "2          two    hatchback        rwd          front       94.5  ...   \n",
            "3         four        sedan        fwd          front       99.8  ...   \n",
            "4         four        sedan        4wd          front       99.4  ...   \n",
            "..         ...          ...        ...            ...        ...  ...   \n",
            "200       four        sedan        rwd          front      109.1  ...   \n",
            "201       four        sedan        rwd          front      109.1  ...   \n",
            "202       four        sedan        rwd          front      109.1  ...   \n",
            "203       four        sedan        rwd          front      109.1  ...   \n",
            "204       four        sedan        rwd          front      109.1  ...   \n",
            "\n",
            "     fuelsystem  boreratio  stroke  compressionratio horsepower peakrpm  \\\n",
            "0          mpfi       3.47    2.68               9.0        111    5000   \n",
            "1          mpfi       3.47    2.68               9.0        111    5000   \n",
            "2          mpfi       2.68    3.47               9.0        154    5000   \n",
            "3          mpfi       3.19    3.40              10.0        102    5500   \n",
            "4          mpfi       3.19    3.40               8.0        115    5500   \n",
            "..          ...        ...     ...               ...        ...     ...   \n",
            "200        mpfi       3.78    3.15               9.5        114    5400   \n",
            "201        mpfi       3.78    3.15               8.7        160    5300   \n",
            "202        mpfi       3.58    2.87               8.8        134    5500   \n",
            "203         idi       3.01    3.40              23.0        106    4800   \n",
            "204        mpfi       3.78    3.15               9.5        114    5400   \n",
            "\n",
            "     citympg highwaympg    price  price_category  \n",
            "0         21         27  13495.0            High  \n",
            "1         21         27  16500.0            High  \n",
            "2         19         26  16500.0            High  \n",
            "3         24         30  13950.0            High  \n",
            "4         18         22  17450.0       very High  \n",
            "..       ...        ...      ...             ...  \n",
            "200       23         28  16845.0       very High  \n",
            "201       19         25  19045.0       very High  \n",
            "202       18         23  21485.0       very High  \n",
            "203       26         27  22470.0       very High  \n",
            "204       19         25  22625.0       very High  \n",
            "\n",
            "[205 rows x 27 columns]\n"
          ]
        }
      ],
      "source": [
        "data['price_category'] = pd.qcut(data['price'], q=4, labels=['Low', 'Medium', 'High','very High'])\n",
        "print(data) #converting the cont values in column price into discrete values"
      ]
    },
    {
      "cell_type": "code",
      "execution_count": null,
      "metadata": {
        "id": "hG3R8U_uVjSw"
      },
      "outputs": [],
      "source": [
        "# Label encode non-numeric columns\n",
        "label_encoders = {}\n",
        "label_encoders['CarName'] = LabelEncoder()\n",
        "data['CarName'] = label_encoders['CarName'].fit_transform(data['CarName'])\n",
        "\n",
        "label_encoders['fueltype'] = LabelEncoder()\n",
        "data['fueltype'] = label_encoders['fueltype'].fit_transform(data['fueltype'])\n",
        "\n",
        "label_encoders['aspiration'] = LabelEncoder()\n",
        "data['aspiration'] = label_encoders['aspiration'].fit_transform(data['aspiration'])\n",
        "\n",
        "label_encoders['doornumber'] = LabelEncoder()\n",
        "data['doornumber'] = label_encoders['doornumber'].fit_transform(data['doornumber'])\n",
        "\n",
        "label_encoders['carbody'] = LabelEncoder()\n",
        "data['carbody'] = label_encoders['carbody'].fit_transform(data['carbody'])\n",
        "\n",
        "label_encoders['drivewheel'] = LabelEncoder()\n",
        "data['drivewheel'] = label_encoders['drivewheel'].fit_transform(data['drivewheel'])\n",
        "\n",
        "label_encoders['enginelocation'] = LabelEncoder()\n",
        "data['enginelocation'] = label_encoders['enginelocation'].fit_transform(data['enginelocation'])\n",
        "\n",
        "label_encoders['enginetype'] = LabelEncoder()\n",
        "data['enginetype'] = label_encoders['enginetype'].fit_transform(data['enginetype'])\n",
        "\n",
        "label_encoders['cylindernumber'] = LabelEncoder()\n",
        "data['cylindernumber'] = label_encoders['cylindernumber'].fit_transform(data['cylindernumber'])\n",
        "\n",
        "label_encoders['fuelsystem'] = LabelEncoder()\n",
        "data['fuelsystem'] = label_encoders['fuelsystem'].fit_transform(data['fuelsystem'])\n",
        "\n",
        "encoder = LabelEncoder()\n",
        "\n",
        "encoder.fit(['Low', 'Medium', 'High','very High'])\n",
        "data[\"price_category\"] = encoder.transform(data[\"price_category\"])\n"
      ]
    },
    {
      "cell_type": "code",
      "execution_count": null,
      "metadata": {
        "colab": {
          "base_uri": "https://localhost:8080/"
        },
        "id": "53yPd7FSADXE",
        "outputId": "29e19e9a-b8fa-4c72-e5a9-720714798d89"
      },
      "outputs": [
        {
          "output_type": "execute_result",
          "data": {
            "text/plain": [
              "car_ID                int64\n",
              "symboling             int64\n",
              "CarName               int64\n",
              "fueltype              int64\n",
              "aspiration            int64\n",
              "doornumber            int64\n",
              "carbody               int64\n",
              "drivewheel            int64\n",
              "enginelocation        int64\n",
              "wheelbase           float64\n",
              "carlength           float64\n",
              "carwidth            float64\n",
              "carheight           float64\n",
              "curbweight            int64\n",
              "enginetype            int64\n",
              "cylindernumber        int64\n",
              "enginesize            int64\n",
              "fuelsystem            int64\n",
              "boreratio           float64\n",
              "stroke              float64\n",
              "compressionratio    float64\n",
              "horsepower            int64\n",
              "peakrpm               int64\n",
              "citympg               int64\n",
              "highwaympg            int64\n",
              "price               float64\n",
              "price_category        int64\n",
              "dtype: object"
            ]
          },
          "metadata": {},
          "execution_count": 62
        }
      ],
      "source": [
        "data.dtypes"
      ]
    },
    {
      "cell_type": "code",
      "execution_count": null,
      "metadata": {
        "colab": {
          "base_uri": "https://localhost:8080/"
        },
        "id": "dqoIV3mZH5MO",
        "outputId": "179545bb-1d20-43ef-eb9c-1999a313ed24"
      },
      "outputs": [
        {
          "output_type": "stream",
          "name": "stdout",
          "text": [
            "x:      symboling  CarName  fueltype  aspiration  doornumber  carbody  \\\n",
            "0            3        2         1           0           1        0   \n",
            "1            3        3         1           0           1        0   \n",
            "2            1        1         1           0           1        2   \n",
            "3            2        4         1           0           0        3   \n",
            "4            2        5         1           0           0        3   \n",
            "..         ...      ...       ...         ...         ...      ...   \n",
            "200         -1      139         1           0           0        3   \n",
            "201         -1      138         1           1           0        3   \n",
            "202         -1      140         1           0           0        3   \n",
            "203         -1      142         0           1           0        3   \n",
            "204         -1      143         1           1           0        3   \n",
            "\n",
            "     drivewheel  enginelocation  wheelbase  carlength  ...  cylindernumber  \\\n",
            "0             2               0       88.6      168.8  ...               2   \n",
            "1             2               0       88.6      168.8  ...               2   \n",
            "2             2               0       94.5      171.2  ...               3   \n",
            "3             1               0       99.8      176.6  ...               2   \n",
            "4             0               0       99.4      176.6  ...               1   \n",
            "..          ...             ...        ...        ...  ...             ...   \n",
            "200           2               0      109.1      188.8  ...               2   \n",
            "201           2               0      109.1      188.8  ...               2   \n",
            "202           2               0      109.1      188.8  ...               3   \n",
            "203           2               0      109.1      188.8  ...               3   \n",
            "204           2               0      109.1      188.8  ...               2   \n",
            "\n",
            "     enginesize  fuelsystem  boreratio  stroke  compressionratio  horsepower  \\\n",
            "0           130           5       3.47    2.68               9.0         111   \n",
            "1           130           5       3.47    2.68               9.0         111   \n",
            "2           152           5       2.68    3.47               9.0         154   \n",
            "3           109           5       3.19    3.40              10.0         102   \n",
            "4           136           5       3.19    3.40               8.0         115   \n",
            "..          ...         ...        ...     ...               ...         ...   \n",
            "200         141           5       3.78    3.15               9.5         114   \n",
            "201         141           5       3.78    3.15               8.7         160   \n",
            "202         173           5       3.58    2.87               8.8         134   \n",
            "203         145           3       3.01    3.40              23.0         106   \n",
            "204         141           5       3.78    3.15               9.5         114   \n",
            "\n",
            "     peakrpm  citympg  highwaympg  \n",
            "0       5000       21          27  \n",
            "1       5000       21          27  \n",
            "2       5000       19          26  \n",
            "3       5500       24          30  \n",
            "4       5500       18          22  \n",
            "..       ...      ...         ...  \n",
            "200     5400       23          28  \n",
            "201     5300       19          25  \n",
            "202     5500       18          23  \n",
            "203     4800       26          27  \n",
            "204     5400       19          25  \n",
            "\n",
            "[205 rows x 24 columns]\n",
            "----------------------------------------------------------------------\n",
            "y: 0      0\n",
            "1      0\n",
            "2      0\n",
            "3      0\n",
            "4      3\n",
            "      ..\n",
            "200    3\n",
            "201    3\n",
            "202    3\n",
            "203    3\n",
            "204    3\n",
            "Name: price_category, Length: 205, dtype: int64\n",
            "----------------------------------------------------------------------\n",
            "x train :       symboling  CarName  fueltype  aspiration  doornumber  carbody  \\\n",
            "4            2        5         1           0           0        3   \n",
            "71          -1       20         1           0           0        3   \n",
            "134          3      103         1           0           1        2   \n",
            "145          0      109         1           1           0        3   \n",
            "122          1       91         1           0           0        3   \n",
            "..         ...      ...       ...         ...         ...      ...   \n",
            "67          -1       19         0           1           0        3   \n",
            "192          0      135         0           1           0        3   \n",
            "117          0       88         1           1           0        3   \n",
            "47           0       49         1           0           0        3   \n",
            "172          2      124         1           0           1        0   \n",
            "\n",
            "     drivewheel  enginelocation  wheelbase  carlength  ...  cylindernumber  \\\n",
            "4             0               0       99.4      176.6  ...               1   \n",
            "71            2               0      115.6      202.6  ...               0   \n",
            "134           1               0       99.1      186.6  ...               2   \n",
            "145           0               0       97.0      172.0  ...               2   \n",
            "122           1               0       93.7      167.3  ...               2   \n",
            "..          ...             ...        ...        ...  ...             ...   \n",
            "67            2               0      110.0      190.9  ...               1   \n",
            "192           1               0      100.4      180.2  ...               2   \n",
            "117           2               0      108.0      186.7  ...               2   \n",
            "47            2               0      113.0      199.6  ...               3   \n",
            "172           2               0       98.4      176.2  ...               2   \n",
            "\n",
            "     enginesize  fuelsystem  boreratio  stroke  compressionratio  horsepower  \\\n",
            "4           136           5       3.19    3.40               8.0         115   \n",
            "71          234           5       3.46    3.10               8.3         155   \n",
            "134         121           5       2.54    2.07               9.3         110   \n",
            "145         108           5       3.62    2.64               7.7         111   \n",
            "122          98           1       2.97    3.23               9.4          68   \n",
            "..          ...         ...        ...     ...               ...         ...   \n",
            "67          183           3       3.58    3.64              21.5         123   \n",
            "192          97           3       3.01    3.40              23.0          68   \n",
            "117         134           5       3.61    3.21               7.0         142   \n",
            "47          258           5       3.63    4.17               8.1         176   \n",
            "172         146           5       3.62    3.50               9.3         116   \n",
            "\n",
            "     peakrpm  citympg  highwaympg  \n",
            "4       5500       18          22  \n",
            "71      4750       16          18  \n",
            "134     5250       21          28  \n",
            "145     4800       24          29  \n",
            "122     5500       31          38  \n",
            "..       ...      ...         ...  \n",
            "67      4350       22          25  \n",
            "192     4500       33          38  \n",
            "117     5600       18          24  \n",
            "47      4750       15          19  \n",
            "172     4800       24          30  \n",
            "\n",
            "[164 rows x 24 columns]\n",
            "----------------------------------------------------------------------\n",
            "y train :  4      3\n",
            "71     3\n",
            "134    0\n",
            "145    0\n",
            "122    1\n",
            "      ..\n",
            "67     3\n",
            "192    0\n",
            "117    3\n",
            "47     3\n",
            "172    3\n",
            "Name: price_category, Length: 164, dtype: int64\n",
            "----------------------------------------------------------------------\n",
            "x test :      symboling  CarName  fueltype  aspiration  doornumber  carbody  \\\n",
            "52           1       61         1           0           1        2   \n",
            "181         -1      128         1           0           0        4   \n",
            "5            2        9         1           0           1        3   \n",
            "18           2       24         1           0           1        2   \n",
            "188          2      132         1           0           0        3   \n",
            "170          2      127         1           0           1        1   \n",
            "76           2       65         1           0           1        2   \n",
            "154          0      117         1           0           0        4   \n",
            "104          3       82         1           0           1        2   \n",
            "33           1       37         1           0           1        2   \n",
            "12           0       11         1           0           1        3   \n",
            "129          1       97         1           0           1        2   \n",
            "55           3       53         1           0           1        2   \n",
            "66           0       60         0           0           0        3   \n",
            "45           0       46         1           0           0        3   \n",
            "169          2      126         1           0           1        2   \n",
            "130          0       99         1           0           0        4   \n",
            "7            1        7         1           0           0        4   \n",
            "37           0       36         1           0           1        2   \n",
            "152          1      116         1           0           0        2   \n",
            "80           3       66         1           1           1        2   \n",
            "111          0       85         1           0           0        3   \n",
            "131          2      100         1           0           1        2   \n",
            "171          2      115         1           0           1        2   \n",
            "179          3      120         1           0           1        2   \n",
            "138          2      104         1           0           1        2   \n",
            "156          0      125         1           0           0        3   \n",
            "113          0       85         1           0           0        4   \n",
            "161          0      115         1           0           0        2   \n",
            "89           1        0         1           0           1        3   \n",
            "183          2      130         1           0           1        3   \n",
            "193          0      132         1           0           0        4   \n",
            "125          3       98         1           0           1        2   \n",
            "173         -1      115         1           0           0        3   \n",
            "92           1       76         1           0           0        3   \n",
            "16           0       14         1           0           1        3   \n",
            "189          3      145         1           0           1        0   \n",
            "136          3      102         1           1           1        2   \n",
            "22           1       27         1           0           1        2   \n",
            "74           1       21         1           0           1        1   \n",
            "44           1       45         1           0           1        3   \n",
            "\n",
            "     drivewheel  enginelocation  wheelbase  carlength  ...  cylindernumber  \\\n",
            "52            1               0       93.1      159.1  ...               2   \n",
            "181           2               0      104.5      187.8  ...               3   \n",
            "5             1               0       99.8      177.3  ...               1   \n",
            "18            1               0       88.4      141.1  ...               4   \n",
            "188           1               0       97.3      171.7  ...               2   \n",
            "170           2               0       98.4      176.2  ...               2   \n",
            "76            1               0       93.7      157.3  ...               2   \n",
            "154           0               0       95.7      169.7  ...               2   \n",
            "104           2               0       91.3      170.7  ...               3   \n",
            "33            1               0       93.7      150.0  ...               2   \n",
            "12            2               0      101.2      176.8  ...               3   \n",
            "129           2               0       98.4      175.7  ...               0   \n",
            "55            2               0       95.3      169.0  ...               6   \n",
            "66            2               0      104.9      175.0  ...               2   \n",
            "45            1               0       94.5      155.9  ...               2   \n",
            "169           2               0       98.4      176.2  ...               2   \n",
            "130           1               0       96.1      181.5  ...               2   \n",
            "7             1               0      105.8      192.7  ...               1   \n",
            "37            1               0       96.5      167.5  ...               2   \n",
            "152           1               0       95.7      158.7  ...               2   \n",
            "80            1               0       96.3      173.0  ...               2   \n",
            "111           2               0      107.9      186.7  ...               2   \n",
            "131           1               0       96.1      176.8  ...               2   \n",
            "171           2               0       98.4      176.2  ...               2   \n",
            "179           2               0      102.9      183.5  ...               3   \n",
            "138           1               0       93.7      156.9  ...               2   \n",
            "156           1               0       95.7      166.3  ...               2   \n",
            "113           2               0      114.2      198.9  ...               2   \n",
            "161           1               0       95.7      166.3  ...               2   \n",
            "89            1               0       94.5      165.3  ...               2   \n",
            "183           1               0       97.3      171.7  ...               2   \n",
            "193           1               0      100.4      183.1  ...               2   \n",
            "125           2               0       94.5      168.9  ...               2   \n",
            "173           1               0      102.4      175.6  ...               2   \n",
            "92            1               0       94.5      165.3  ...               2   \n",
            "16            2               0      103.5      193.8  ...               3   \n",
            "189           1               0       94.5      159.3  ...               2   \n",
            "136           1               0       99.1      186.6  ...               2   \n",
            "22            1               0       93.7      157.3  ...               2   \n",
            "74            2               0      112.0      199.2  ...               0   \n",
            "44            1               0       94.5      155.9  ...               2   \n",
            "\n",
            "     enginesize  fuelsystem  boreratio  stroke  compressionratio  horsepower  \\\n",
            "52           91           1       3.03   3.150               9.0          68   \n",
            "181         161           5       3.27   3.350               9.2         156   \n",
            "5           136           5       3.19   3.400               8.5         110   \n",
            "18           61           1       2.91   3.030               9.5          48   \n",
            "188         109           5       3.19   3.400              10.0         100   \n",
            "170         146           5       3.62   3.500               9.3         116   \n",
            "76           92           1       2.97   3.230               9.4          68   \n",
            "154          92           1       3.05   3.030               9.0          62   \n",
            "104         181           5       3.43   3.270               9.0         160   \n",
            "33           92           0       2.91   3.410               9.2          76   \n",
            "12          164           5       3.31   3.190               9.0         121   \n",
            "129         203           5       3.94   3.110              10.0         288   \n",
            "55           70           2       3.33   3.255               9.4         101   \n",
            "66          134           3       3.43   3.640              22.0          72   \n",
            "45           90           1       3.03   3.110               9.6          70   \n",
            "169         146           5       3.62   3.500               9.3         116   \n",
            "130         132           5       3.46   3.900               8.7          90   \n",
            "7           136           5       3.19   3.400               8.5         110   \n",
            "37          110           0       3.15   3.580               9.0          86   \n",
            "152          92           1       3.05   3.030               9.0          62   \n",
            "80          110           6       3.17   3.460               7.5         116   \n",
            "111         120           5       3.46   2.190               8.4          95   \n",
            "131         132           5       3.46   3.900               8.7          90   \n",
            "171         146           5       3.62   3.500               9.3         116   \n",
            "179         171           5       3.27   3.350               9.3         161   \n",
            "138          97           1       3.62   2.360               9.0          69   \n",
            "156          98           1       3.19   3.030               9.0          70   \n",
            "113         120           5       3.46   2.190               8.4          95   \n",
            "161          98           1       3.19   3.030               9.0          70   \n",
            "89           97           1       3.15   3.290               9.4          69   \n",
            "183         109           5       3.19   3.400               9.0          85   \n",
            "193         109           5       3.19   3.400               9.0          88   \n",
            "125         151           5       3.94   3.110               9.5         143   \n",
            "173         122           5       3.31   3.540               8.7          92   \n",
            "92           97           1       3.15   3.290               9.4          69   \n",
            "16          209           5       3.62   3.390               8.0         182   \n",
            "189         109           5       3.19   3.400               8.5          90   \n",
            "136         121           5       3.54   3.070               9.0         160   \n",
            "22           90           1       2.97   3.230               9.4          68   \n",
            "74          304           5       3.80   3.350               8.0         184   \n",
            "44           90           1       3.03   3.110               9.6          70   \n",
            "\n",
            "     peakrpm  citympg  highwaympg  \n",
            "52      5000       31          38  \n",
            "181     5200       19          24  \n",
            "5       5500       19          25  \n",
            "18      5100       47          53  \n",
            "188     5500       26          32  \n",
            "170     4800       24          30  \n",
            "76      5500       37          41  \n",
            "154     4800       27          32  \n",
            "104     5200       19          25  \n",
            "33      6000       30          34  \n",
            "12      4250       21          28  \n",
            "129     5750       17          28  \n",
            "55      6000       17          23  \n",
            "66      4200       31          39  \n",
            "45      5400       38          43  \n",
            "169     4800       24          30  \n",
            "130     5100       23          31  \n",
            "7       5500       19          25  \n",
            "37      5800       27          33  \n",
            "152     4800       31          38  \n",
            "80      5500       23          30  \n",
            "111     5000       19          24  \n",
            "131     5100       23          31  \n",
            "171     4800       24          30  \n",
            "179     5200       19          24  \n",
            "138     4900       31          36  \n",
            "156     4800       30          37  \n",
            "113     5000       19          24  \n",
            "161     4800       28          34  \n",
            "89      5200       31          37  \n",
            "183     5250       27          34  \n",
            "193     5500       25          31  \n",
            "125     5500       19          27  \n",
            "173     4200       29          34  \n",
            "92      5200       31          37  \n",
            "16      5400       16          22  \n",
            "189     5500       24          29  \n",
            "136     5500       19          26  \n",
            "22      5500       31          38  \n",
            "74      4500       14          16  \n",
            "44      5400       38          43  \n",
            "\n",
            "[41 rows x 24 columns]\n",
            "----------------------------------------------------------------------\n",
            "y test : 52     1\n",
            "181    0\n",
            "5      0\n",
            "18     1\n",
            "188    2\n",
            "170    0\n",
            "76     1\n",
            "154    2\n",
            "104    3\n",
            "33     1\n",
            "12     3\n",
            "129    3\n",
            "55     0\n",
            "66     3\n",
            "45     2\n",
            "169    2\n",
            "130    2\n",
            "7      3\n",
            "37     2\n",
            "152    1\n",
            "80     2\n",
            "111    0\n",
            "131    2\n",
            "171    0\n",
            "179    0\n",
            "138    1\n",
            "156    1\n",
            "113    3\n",
            "161    2\n",
            "89     1\n",
            "183    2\n",
            "193    0\n",
            "125    3\n",
            "173    2\n",
            "92     1\n",
            "16     3\n",
            "189    0\n",
            "136    3\n",
            "22     1\n",
            "74     3\n",
            "44     2\n",
            "Name: price_category, dtype: int64\n"
          ]
        }
      ],
      "source": [
        "X = data.drop(['price_category','price','car_ID'], axis=1)  # Features\n",
        "y = data['price_category']  # Target variable\n",
        "X_train, X_test, y_train, y_test = train_test_split(X, y, test_size=0.2, random_state=0) #creating training and testing sets\n",
        "#test size=20% of the data ,random state (seed for randomness)=0\n",
        "print('x:',X)\n",
        "print('----------------------------------------------------------------------')\n",
        "print('y:',y)\n",
        "print('----------------------------------------------------------------------')\n",
        "print('x train : ',X_train)\n",
        "print('----------------------------------------------------------------------')\n",
        "print('y train : ',y_train)\n",
        "print('----------------------------------------------------------------------')\n",
        "print('x test :',X_test)\n",
        "print('----------------------------------------------------------------------')\n",
        "print('y test :',y_test)\n",
        "\n",
        "\n"
      ]
    },
    {
      "cell_type": "markdown",
      "metadata": {
        "id": "y8UxBXRuecLA"
      },
      "source": [
        "**Decision** **tree**"
      ]
    },
    {
      "cell_type": "code",
      "execution_count": null,
      "metadata": {
        "colab": {
          "base_uri": "https://localhost:8080/"
        },
        "id": "xftAnV4cL1AM",
        "outputId": "4f783e73-606d-442e-faea-8c3f99c0ce38"
      },
      "outputs": [
        {
          "output_type": "stream",
          "name": "stdout",
          "text": [
            "[1 0 0 1 2 2 1 2 3 1 3 3 0 0 1 2 2 3 2 1 2 3 2 2 3 2 1 3 1 1 2 2 3 0 1 3 2\n",
            " 3 1 3 1]\n"
          ]
        }
      ],
      "source": [
        "decision_tree = DecisionTreeClassifier(random_state=0)\n",
        "decision_tree.fit(X_train, y_train)\n",
        "\n",
        "# Make predictions\n",
        "dty_pred = decision_tree.predict(X_test)\n",
        "print(dty_pred)"
      ]
    },
    {
      "cell_type": "code",
      "execution_count": null,
      "metadata": {
        "colab": {
          "base_uri": "https://localhost:8080/"
        },
        "id": "vRuL3DjxPsYP",
        "outputId": "df449387-b5df-48a3-e945-1c7e1896f93a"
      },
      "outputs": [
        {
          "output_type": "stream",
          "name": "stdout",
          "text": [
            "Decision Tree Classifier Performance:\n",
            "Accuracy: 0.7073170731707317\n",
            "Confusion Matrix:\n",
            " [[3 0 4 2]\n",
            " [0 9 1 0]\n",
            " [1 3 8 0]\n",
            " [1 0 0 9]]\n",
            "Recall: 0.7073170731707317\n",
            "Precision: 0.6943032577178918\n"
          ]
        }
      ],
      "source": [
        "accuracy = accuracy_score(y_test, dty_pred)\n",
        "conf_matrix = confusion_matrix(y_test,dty_pred)\n",
        "recall = recall_score(y_test, dty_pred, average='weighted')\n",
        "precision = precision_score(y_test, dty_pred, average='weighted')\n",
        "print(\"Decision Tree Classifier Performance:\")\n",
        "print(\"Accuracy:\", accuracy)\n",
        "print(\"Confusion Matrix:\\n\", conf_matrix)\n",
        "print(\"Recall:\", recall)\n",
        "print(\"Precision:\", precision)"
      ]
    },
    {
      "cell_type": "markdown",
      "metadata": {
        "id": "61k8N_qIUyTU"
      },
      "source": [
        "**KNN**"
      ]
    },
    {
      "cell_type": "code",
      "execution_count": null,
      "metadata": {
        "colab": {
          "base_uri": "https://localhost:8080/"
        },
        "id": "ekbU1HGgTeXI",
        "outputId": "b1e819b2-2f58-4d3a-f242-12b841d18ec2"
      },
      "outputs": [
        {
          "output_type": "stream",
          "name": "stdout",
          "text": [
            "[1 0 0 1 2 0 1 1 0 1 0 3 0 0 1 2 0 3 2 1 2 3 2 0 3 1 1 3 1 1 2 0 3 0 1 3 1\n",
            " 3 1 3 1]\n"
          ]
        }
      ],
      "source": [
        "knnClass = KNeighborsClassifier(n_neighbors=5 , weights = 'uniform' , algorithm = 'auto') #default no. of neighbours , each point in each neighbour has same weight , decides most appropriate algo to use\n",
        "knnClass.fit(X_train , y_train) #fit model\n",
        "Knnpred = knnClass.predict(X_test)\n",
        "print(Knnpred)"
      ]
    },
    {
      "cell_type": "code",
      "execution_count": null,
      "metadata": {
        "colab": {
          "base_uri": "https://localhost:8080/"
        },
        "id": "1PurvbpSe-X4",
        "outputId": "540e78ce-738b-4e50-ef0f-0f5a4e066c05"
      },
      "outputs": [
        {
          "output_type": "stream",
          "name": "stdout",
          "text": [
            "[1.  1.2 0.8 1.  1.4 1.4 1.  1.4 1.2 1.2 1.  3.  0.4 1.  1.  1.2 1.4 3.\n",
            " 1.8 1.  1.2 1.8 1.8 1.4 1.8 1.  1.2 1.8 1.4 1.4 2.  0.8 1.8 0.8 1.2 2.4\n",
            " 1.2 1.8 1.  3.  1. ]\n"
          ]
        },
        {
          "output_type": "execute_result",
          "data": {
            "text/plain": [
              "0.9063414634146341"
            ]
          },
          "metadata": {},
          "execution_count": 67
        }
      ],
      "source": [
        "knnReg = KNeighborsRegressor(n_neighbors=5 , weights = 'uniform' , algorithm = 'auto') #default no. of neighbours , each point in each neighbour has same weight , decides most appropriate algo to use\n",
        "knnReg.fit(X_train , y_train) #fit model\n",
        "Knnpred = knnReg.predict(X_test)\n",
        "print(Knnpred)\n",
        "mean_squared_error(y_test , Knnpred)"
      ]
    },
    {
      "cell_type": "code",
      "execution_count": null,
      "metadata": {
        "id": "Pz9JpYrQfQiJ"
      },
      "outputs": [],
      "source": [
        "label_encoder = LabelEncoder()\n",
        "yTest_encoded = label_encoder.fit_transform(y_test)\n",
        "pred_encoded = label_encoder.transform(Knnpred)"
      ]
    },
    {
      "cell_type": "code",
      "execution_count": null,
      "metadata": {
        "colab": {
          "base_uri": "https://localhost:8080/"
        },
        "id": "rRog2jAMggZC",
        "outputId": "3361f876-c98f-41c3-ba38-792b73154356"
      },
      "outputs": [
        {
          "output_type": "stream",
          "name": "stdout",
          "text": [
            "knn:\n",
            "Accuracy: 0.4146341463414634\n",
            "Confusion Matrix:\n",
            " [[ 3  6  0  0]\n",
            " [ 0 10  0  0]\n",
            " [ 1 10  1  0]\n",
            " [ 0  6  1  3]]\n",
            "Recall: 0.4146341463414634\n",
            "Precision: 0.6310975609756098\n"
          ]
        }
      ],
      "source": [
        "acc = accuracy_score(yTest_encoded , pred_encoded)\n",
        "print('knn:')\n",
        "print(\"Accuracy:\",acc)\n",
        "cmat=confusion_matrix(yTest_encoded , pred_encoded)\n",
        "print(\"Confusion Matrix:\\n\",cmat)\n",
        "rs=recall_score(yTest_encoded , pred_encoded , average = \"weighted\")\n",
        "ps=precision_score(yTest_encoded , pred_encoded , average = \"weighted\")\n",
        "print(\"Recall:\", rs)\n",
        "print(\"Precision:\", ps)"
      ]
    },
    {
      "cell_type": "markdown",
      "metadata": {
        "id": "2vpwDSQVhiRM"
      },
      "source": [
        "**Naive bayes**"
      ]
    },
    {
      "cell_type": "code",
      "execution_count": null,
      "metadata": {
        "colab": {
          "base_uri": "https://localhost:8080/"
        },
        "id": "8DN7F2dqhfhu",
        "outputId": "6e814d83-d4db-4974-a4d4-ce99d366afa5"
      },
      "outputs": [
        {
          "output_type": "stream",
          "name": "stdout",
          "text": [
            "[1 3 0 0 2 0 1 2 0 1 0 3 0 0 1 0 2 3 2 1 2 0 2 0 0 1 1 3 1 1 2 2 0 2 1 3 2\n",
            " 0 1 3 1]\n"
          ]
        }
      ],
      "source": [
        "nb_model = GaussianNB()\n",
        "\n",
        "\n",
        "nb_model.fit(X_train, y_train)\n",
        "\n",
        "# Predict on the test set\n",
        "y_pred = nb_model.predict(X_test)\n",
        "print(y_pred)\n"
      ]
    },
    {
      "cell_type": "code",
      "execution_count": null,
      "metadata": {
        "colab": {
          "base_uri": "https://localhost:8080/"
        },
        "id": "zorPkhlNh088",
        "outputId": "0114c250-450a-4e28-ca93-9218260fcdae"
      },
      "outputs": [
        {
          "output_type": "stream",
          "name": "stdout",
          "text": [
            " Naive bayes Accuracy: 0.6829268292682927\n",
            "naive bayes Confusion Matrix:\n",
            "[[6 0 2 1]\n",
            " [1 9 0 0]\n",
            " [1 3 8 0]\n",
            " [5 0 0 5]]\n",
            " naive bayes Recall: 0.6829268292682927\n",
            "naive bayes Precision: 0.7216385240775486\n"
          ]
        }
      ],
      "source": [
        "# Evaluate the model\n",
        "accuracy = accuracy_score(y_test, y_pred)\n",
        "print(\" Naive bayes Accuracy:\", accuracy)\n",
        "\n",
        "# Compute confusion matrix\n",
        "cm = confusion_matrix(y_test, y_pred)\n",
        "print(\"naive bayes Confusion Matrix:\")\n",
        "print(cm)\n",
        "\n",
        "# Compute recall\n",
        "recall = recall_score(y_test, y_pred, average='weighted')\n",
        "print(\" naive bayes Recall:\", recall)\n",
        "\n",
        "# Compute precision\n",
        "precision = precision_score(y_test, y_pred, average='weighted')\n",
        "print(\"naive bayes Precision:\", precision)"
      ]
    },
    {
      "cell_type": "markdown",
      "metadata": {
        "id": "v1L4_-_xkf4U"
      },
      "source": [
        "**decesion tree performed better because it is more accurate**"
      ]
    }
  ],
  "metadata": {
    "colab": {
      "provenance": []
    },
    "kernelspec": {
      "display_name": "Python 3",
      "name": "python3"
    },
    "language_info": {
      "name": "python"
    }
  },
  "nbformat": 4,
  "nbformat_minor": 0
}